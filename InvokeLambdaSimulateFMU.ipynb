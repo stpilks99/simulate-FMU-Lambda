{
 "cells": [
  {
   "cell_type": "markdown",
   "id": "cfd817d8",
   "metadata": {},
   "source": [
    "### Imports"
   ]
  },
  {
   "cell_type": "code",
   "execution_count": 1,
   "id": "b96cfb6a",
   "metadata": {},
   "outputs": [],
   "source": [
    "import matplotlib.pyplot as plt\n",
    "from fmpy import *\n",
    "import numpy as np\n",
    "import pandas as pd\n",
    "import boto3\n",
    "import json\n",
    "import os\n",
    "import glob"
   ]
  },
  {
   "cell_type": "markdown",
   "id": "593d51e3",
   "metadata": {},
   "source": [
    "### Upload FMU files to S3 bucket\n",
    "- BouncingBall.fmu - the FMU archive you want to simulate (must be compiled for linux64 platform or the simulation will fail)\n",
    "- BouncingBall_pSets.json - the set of model parameters (values that are constant for each simulation loop)\n",
    "- BouncingBall_iSet.json - the set of time series inputs for the model (time series interpolation)\n",
    "- Note, the BouncingBall does not have any inputs, so the iSet file is an empty JSON"
   ]
  },
  {
   "cell_type": "code",
   "execution_count": 2,
   "id": "7b7901be",
   "metadata": {
    "scrolled": true
   },
   "outputs": [],
   "source": [
    "# instantiate boto3 s3 client\n",
    "s3_client = boto3.client('s3')\n",
    "bucket_name = 'fmpy-bucket'\n",
    "# upload the files (name of the local file, name of bucket, the name you want for the file in s3)\n",
    "s3_client.upload_file('BouncingBall.fmu', bucket_name, 'BouncingBall.fmu')\n",
    "s3_client.upload_file('BouncingBall_pSets.json', bucket_name, 'BouncingBall_pSets.json')\n",
    "s3_client.upload_file('BouncingBall_iSet.json', bucket_name, 'BouncingBall_iSet.json')"
   ]
  },
  {
   "cell_type": "markdown",
   "id": "7096bf58",
   "metadata": {},
   "source": [
    "### Lambda inputs"
   ]
  },
  {
   "cell_type": "markdown",
   "id": "16630c03",
   "metadata": {},
   "source": [
    "\n",
    "https://hands-on.cloud/working-with-aws-lambda-in-python-using-boto3/#:~:text=To%20invoke%20the%20Lambda%20function,should%20contain%20JSON%20string%20data.\n",
    "- Each parameter set defines 1 instance of the model\n",
    "- If there are multiple parameter sets, can upload all at once (params, inputs, fmu file)\n",
    "- Trigger lambdas based on those files\n",
    "- Example: {\n",
    "    'parameter_file': 'BouncingBall_pSets.json',\n",
    "    'input_file': 'BouncingBall_iSet.json',\n",
    "    'fmu_file': 'BouncingBall.fmu',\n",
    "    'step_size': 0.01\n",
    "}\n",
    "- When invoking the Lambda, we can provide it some input data such as model start time, end time, and which json files to use. Note, all the inputs shown in the cell below are required for the simulation to run\n",
    "\n",
    "\n"
   ]
  },
  {
   "cell_type": "markdown",
   "id": "914e818f",
   "metadata": {},
   "source": [
    "The Lambda takes the following inputs:\n",
    "- parameter_file: JSON file describing model parameter names and values (are constant for each simulation run)\n",
    "- input_file: JSON file describing model input names and values (can be time series inputs)\n",
    "- fmu_file: the name of the FMU file you want to simulate on S3\n",
    "- start_time: simulation start time\n",
    "- end_time: simulation end time\n",
    "- index: used when a for loop invokes Lambdas in parallel (set index to 1 if only running one simulation)"
   ]
  },
  {
   "cell_type": "code",
   "execution_count": 3,
   "id": "3b74aeda",
   "metadata": {},
   "outputs": [],
   "source": [
    "# define data to send to lambda as inputs\n",
    "lambda_client = boto3.client('lambda')\n",
    "# all times are in seconds\n",
    "simulate_event = {'parameter_file': 'BouncingBall_pSets.json',\n",
    "    'input_file': 'BouncingBall_iSet.json',\n",
    "    'fmu_file': 'BouncingBall.fmu',\n",
    "    'start_time': 0,\n",
    "    'end_time': 10,\n",
    "    'step_size': 0.01,\n",
    "    'index': 1}\n"
   ]
  },
  {
   "cell_type": "markdown",
   "id": "d54f1812",
   "metadata": {},
   "source": [
    "### Invoke the Lambda\n",
    "- Now we will invoke (trigger) one instance of the Lambda using the simulate_event inputs\n",
    "- When finished, it will return the runtime, status code 200, and a success message\n",
    "- If it failed, it will return the relevant error message\n",
    "- Note, if you see a message about the simulation timing out or running out of memory, adjust the settings in the Lambda configuration page"
   ]
  },
  {
   "cell_type": "code",
   "execution_count": 4,
   "id": "05d045a0",
   "metadata": {},
   "outputs": [
    {
     "name": "stdout",
     "output_type": "stream",
     "text": [
      "<botocore.response.StreamingBody object at 0x7f87e7d89400>\n",
      "{\"runtime\": \"0.8567090034484863 second(s)\", \"statusCode\": 200, \"body\": \"\\\"Ran successfully!\\\"\"}\n"
     ]
    }
   ],
   "source": [
    "# invoke the lambda with the input data using the payload argument\n",
    "response = lambda_client.invoke(\n",
    "  FunctionName='simulateCoupledClutches',\n",
    "  Payload=json.dumps(simulate_event),\n",
    ")\n",
    "print(response['Payload'])\n",
    "print(response['Payload'].read().decode(\"utf-8\"))"
   ]
  },
  {
   "cell_type": "markdown",
   "id": "f7e5c43e",
   "metadata": {},
   "source": [
    "### Download latest CSV file\n",
    "- To plot the results, let's download the latest CSV file that was put into the S3 results bucket onto a local machine"
   ]
  },
  {
   "cell_type": "code",
   "execution_count": 4,
   "id": "70726c5a",
   "metadata": {
    "scrolled": true
   },
   "outputs": [],
   "source": [
    "# get the latest object from the s3 results bucket\n",
    "fmu_name = 'BouncingBall.fmu'\n",
    "results_bucket = 'simulate-fmu-results-bucket'\n",
    "def download_latest_file(fmu_name):\n",
    "    s3_client = boto3.client('s3')\n",
    "    response = s3_client.list_objects_v2(Bucket='simulate-fmu-results-bucket')\n",
    "    objects = sorted(response['Contents'], key=lambda obj: obj['LastModified'])\n",
    "    ## Latest object\n",
    "    latest_object = objects[-1]['Key']\n",
    "    filename = latest_object[latest_object.rfind('/')+1:] # Remove path\n",
    "    # Download it to current directory\n",
    "    s3_client.download_file(results_bucket, latest_object, filename)\n",
    "    "
   ]
  },
  {
   "cell_type": "code",
   "execution_count": 16,
   "id": "f598a111",
   "metadata": {},
   "outputs": [],
   "source": [
    "download_latest_file(fmu_name)"
   ]
  },
  {
   "cell_type": "code",
   "execution_count": 17,
   "id": "a482f7f7",
   "metadata": {},
   "outputs": [
    {
     "name": "stdout",
     "output_type": "stream",
     "text": [
      "BouncingBall.fmu_2022_07_16_21_46_15_Results_Run1.csv\n"
     ]
    }
   ],
   "source": [
    "# get the name of the newest file in the current directory\n",
    "list_of_files = glob.glob(fmu_name + '*_Results_Run*.csv') # * means all if need specific format then *.csv\n",
    "latest_file = max(list_of_files, key=os.path.getctime)\n",
    "print(latest_file)"
   ]
  },
  {
   "cell_type": "markdown",
   "id": "0d28facb",
   "metadata": {},
   "source": [
    "### Plot the results\n",
    "- Read data into Pandas dataframe\n",
    "- Plot the variables with respect to time using matplotlib"
   ]
  },
  {
   "cell_type": "code",
   "execution_count": 18,
   "id": "9ccdedf8",
   "metadata": {},
   "outputs": [
    {
     "data": {
      "text/html": [
       "<div>\n",
       "<style scoped>\n",
       "    .dataframe tbody tr th:only-of-type {\n",
       "        vertical-align: middle;\n",
       "    }\n",
       "\n",
       "    .dataframe tbody tr th {\n",
       "        vertical-align: top;\n",
       "    }\n",
       "\n",
       "    .dataframe thead th {\n",
       "        text-align: right;\n",
       "    }\n",
       "</style>\n",
       "<table border=\"1\" class=\"dataframe\">\n",
       "  <thead>\n",
       "    <tr style=\"text-align: right;\">\n",
       "      <th></th>\n",
       "      <th>time</th>\n",
       "      <th>g</th>\n",
       "      <th>h</th>\n",
       "      <th>v</th>\n",
       "    </tr>\n",
       "  </thead>\n",
       "  <tbody>\n",
       "    <tr>\n",
       "      <th>0</th>\n",
       "      <td>0.01</td>\n",
       "      <td>-9.8</td>\n",
       "      <td>0.999559</td>\n",
       "      <td>-0.098</td>\n",
       "    </tr>\n",
       "    <tr>\n",
       "      <th>1</th>\n",
       "      <td>0.02</td>\n",
       "      <td>-9.8</td>\n",
       "      <td>0.998138</td>\n",
       "      <td>-0.196</td>\n",
       "    </tr>\n",
       "    <tr>\n",
       "      <th>2</th>\n",
       "      <td>0.03</td>\n",
       "      <td>-9.8</td>\n",
       "      <td>0.995737</td>\n",
       "      <td>-0.294</td>\n",
       "    </tr>\n",
       "    <tr>\n",
       "      <th>3</th>\n",
       "      <td>0.04</td>\n",
       "      <td>-9.8</td>\n",
       "      <td>0.992356</td>\n",
       "      <td>-0.392</td>\n",
       "    </tr>\n",
       "    <tr>\n",
       "      <th>4</th>\n",
       "      <td>0.05</td>\n",
       "      <td>-9.8</td>\n",
       "      <td>0.987995</td>\n",
       "      <td>-0.490</td>\n",
       "    </tr>\n",
       "    <tr>\n",
       "      <th>5</th>\n",
       "      <td>0.06</td>\n",
       "      <td>-9.8</td>\n",
       "      <td>0.982654</td>\n",
       "      <td>-0.588</td>\n",
       "    </tr>\n",
       "    <tr>\n",
       "      <th>6</th>\n",
       "      <td>0.07</td>\n",
       "      <td>-9.8</td>\n",
       "      <td>0.976333</td>\n",
       "      <td>-0.686</td>\n",
       "    </tr>\n",
       "    <tr>\n",
       "      <th>7</th>\n",
       "      <td>0.08</td>\n",
       "      <td>-9.8</td>\n",
       "      <td>0.969032</td>\n",
       "      <td>-0.784</td>\n",
       "    </tr>\n",
       "    <tr>\n",
       "      <th>8</th>\n",
       "      <td>0.09</td>\n",
       "      <td>-9.8</td>\n",
       "      <td>0.960751</td>\n",
       "      <td>-0.882</td>\n",
       "    </tr>\n",
       "    <tr>\n",
       "      <th>9</th>\n",
       "      <td>0.10</td>\n",
       "      <td>-9.8</td>\n",
       "      <td>0.951490</td>\n",
       "      <td>-0.980</td>\n",
       "    </tr>\n",
       "  </tbody>\n",
       "</table>\n",
       "</div>"
      ],
      "text/plain": [
       "   time    g         h      v\n",
       "0  0.01 -9.8  0.999559 -0.098\n",
       "1  0.02 -9.8  0.998138 -0.196\n",
       "2  0.03 -9.8  0.995737 -0.294\n",
       "3  0.04 -9.8  0.992356 -0.392\n",
       "4  0.05 -9.8  0.987995 -0.490\n",
       "5  0.06 -9.8  0.982654 -0.588\n",
       "6  0.07 -9.8  0.976333 -0.686\n",
       "7  0.08 -9.8  0.969032 -0.784\n",
       "8  0.09 -9.8  0.960751 -0.882\n",
       "9  0.10 -9.8  0.951490 -0.980"
      ]
     },
     "execution_count": 18,
     "metadata": {},
     "output_type": "execute_result"
    }
   ],
   "source": [
    "# read the csv into a pandas dataframe then print the first 10 lines\n",
    "df = pd.read_csv(latest_file)\n",
    "df.head(10)"
   ]
  },
  {
   "cell_type": "code",
   "execution_count": 19,
   "id": "7c9ee0df",
   "metadata": {},
   "outputs": [
    {
     "data": {
      "text/plain": [
       "Text(0, 0.5, 'Gravity')"
      ]
     },
     "execution_count": 19,
     "metadata": {},
     "output_type": "execute_result"
    },
    {
     "data": {
      "image/png": "[encoded data removed]",
      "text/plain": [
       "<Figure size 432x288 with 1 Axes>"
      ]
     },
     "metadata": {
      "needs_background": "light"
     },
     "output_type": "display_data"
    }
   ],
   "source": [
    "# plot parameters\n",
    "plt.plot(df['time'],df['g'])\n",
    "plt.xlabel(\"Time\")\n",
    "plt.ylabel(\"Gravity\")"
   ]
  },
  {
   "cell_type": "code",
   "execution_count": 20,
   "id": "fbebbd27",
   "metadata": {},
   "outputs": [
    {
     "data": {
      "text/plain": [
       "Text(0, 0.5, 'Height of ball')"
      ]
     },
     "execution_count": 20,
     "metadata": {},
     "output_type": "execute_result"
    },
    {
     "data": {
      "image/png": "[encoded data removed]",
      "text/plain": [
       "<Figure size 432x288 with 1 Axes>"
      ]
     },
     "metadata": {
      "needs_background": "light"
     },
     "output_type": "display_data"
    }
   ],
   "source": [
    "# plot height of ball\n",
    "plt.plot(df['time'],df['h'])\n",
    "plt.xlabel(\"Time (seconds)\")\n",
    "plt.ylabel(\"Height of ball\")"
   ]
  },
  {
   "cell_type": "code",
   "execution_count": 21,
   "id": "9750eed4",
   "metadata": {
    "scrolled": true
   },
   "outputs": [
    {
     "data": {
      "text/plain": [
       "Text(0, 0.5, 'Velocity of ball (m/s)')"
      ]
     },
     "execution_count": 21,
     "metadata": {},
     "output_type": "execute_result"
    },
    {
     "data": {
      "image/png": "[encoded data removed]",
      "text/plain": [
       "<Figure size 432x288 with 1 Axes>"
      ]
     },
     "metadata": {
      "needs_background": "light"
     },
     "output_type": "display_data"
    }
   ],
   "source": [
    "# plot velocity\n",
    "plt.plot(df['time'],df['v'])\n",
    "plt.xlabel(\"Time (seconds)\")\n",
    "plt.ylabel(\"Velocity of ball (m/s)\")"
   ]
  },
  {
   "cell_type": "markdown",
   "id": "239c2a18",
   "metadata": {},
   "source": [
    "### Print a report of the simulation"
   ]
  },
  {
   "cell_type": "code",
   "execution_count": 22,
   "id": "fbe8b944",
   "metadata": {},
   "outputs": [],
   "source": [
    "# print report of the simulation after downloading the report file\n",
    "# need to manually specify name of file to download for boto3\n",
    "# for example \n",
    "result_filename = \"BouncingBall.fmu_2022_07_14_22_06_17_Report_Run1.csv\"\n",
    "s3_client.download_file(results_bucket, result_filename, result_filename)\n",
    "\n",
    "#list_of_files = glob.glob('*_Report.csv') # * means all if need specific format then *.csv\n",
    "#latest_file = max(list_of_files, key=os.path.getctime)\n",
    "#print(latest_file)\n"
   ]
  },
  {
   "cell_type": "code",
   "execution_count": 23,
   "id": "63690055",
   "metadata": {},
   "outputs": [
    {
     "data": {
      "text/html": [
       "<div>\n",
       "<style scoped>\n",
       "    .dataframe tbody tr th:only-of-type {\n",
       "        vertical-align: middle;\n",
       "    }\n",
       "\n",
       "    .dataframe tbody tr th {\n",
       "        vertical-align: top;\n",
       "    }\n",
       "\n",
       "    .dataframe thead th {\n",
       "        text-align: right;\n",
       "    }\n",
       "</style>\n",
       "<table border=\"1\" class=\"dataframe\">\n",
       "  <thead>\n",
       "    <tr style=\"text-align: right;\">\n",
       "      <th></th>\n",
       "      <th>FMU file</th>\n",
       "      <th>Start date</th>\n",
       "      <th>End date</th>\n",
       "      <th>Simulation start time</th>\n",
       "      <th>Simulation end time</th>\n",
       "      <th>Total runtime</th>\n",
       "      <th>Real time factor (sim. time / real time)</th>\n",
       "    </tr>\n",
       "  </thead>\n",
       "  <tbody>\n",
       "    <tr>\n",
       "      <th>0</th>\n",
       "      <td>BouncingBall.fmu</td>\n",
       "      <td>2022_07_14_22_06_17</td>\n",
       "      <td>2022_07_14_22_06_17</td>\n",
       "      <td>0</td>\n",
       "      <td>10</td>\n",
       "      <td>0.892293</td>\n",
       "      <td>11.207078</td>\n",
       "    </tr>\n",
       "  </tbody>\n",
       "</table>\n",
       "</div>"
      ],
      "text/plain": [
       "           FMU file           Start date             End date  \\\n",
       "0  BouncingBall.fmu  2022_07_14_22_06_17  2022_07_14_22_06_17   \n",
       "\n",
       "   Simulation start time  Simulation end time  Total runtime  \\\n",
       "0                      0                   10       0.892293   \n",
       "\n",
       "   Real time factor (sim. time / real time)  \n",
       "0                                 11.207078  "
      ]
     },
     "execution_count": 23,
     "metadata": {},
     "output_type": "execute_result"
    }
   ],
   "source": [
    "# print the report\n",
    "df_report = pd.read_csv(result_filename)\n",
    "df_report.head()"
   ]
  },
  {
   "cell_type": "markdown",
   "id": "e2ad9758",
   "metadata": {},
   "source": [
    "### Simulate using a sweep of parameters\n",
    "- Each pSets.json contains the parameters for a model (and only that model) for one simulation run.\n",
    "- Let's say we want to simulate BouncingBall.fmu 100 times.\n",
    "- So we need to create 100 pSets.json files and upload them to fmpy-bucket on S3.\n",
    "- By default, Python will wait for each Lambda execution to finish before starting the next one. However, this is slow so let's run them asynchronously (without waiting for a response)."
   ]
  },
  {
   "cell_type": "code",
   "execution_count": 29,
   "id": "5f533791",
   "metadata": {},
   "outputs": [],
   "source": [
    "s3_client.upload_file('BouncingBall.fmu', 'fmpy-bucket', 'BouncingBall.fmu')\n",
    "s3_client.upload_file('BouncingBall_iSet.json', 'fmpy-bucket', 'BouncingBall_iSet.json')\n",
    "\n",
    "# upload all 100 pSets\n",
    "# setting g to the same value in each pSet file for now\n",
    "# although you could change the value in each pSet file to see the affect on the height of the ball\n",
    "for i in range(100):\n",
    "    j = str(i+1)\n",
    "    pSets = 'BouncingBall_pSets_' + j + '.json'\n",
    "    f = open(pSets, \"w\")\n",
    "    f.write(\"{\\\"g\\\":-9.8}\")\n",
    "    f.close()\n",
    "    s3_client.upload_file(pSets, 'fmpy-bucket', pSets)\n"
   ]
  },
  {
   "cell_type": "markdown",
   "id": "f110dc46",
   "metadata": {},
   "source": [
    "- Looping 10 times, each time increasing the input pSets file by 1 using an interator"
   ]
  },
  {
   "cell_type": "code",
   "execution_count": 25,
   "id": "5c1a97e1",
   "metadata": {},
   "outputs": [],
   "source": [
    "# define data to send to lambda as inputs\n",
    "lambda_client = boto3.client('lambda')\n",
    "\n",
    "for i in range(100):\n",
    "    # all times are in seconds\n",
    "    # for iterating through the files\n",
    "    j = str(i+1)\n",
    "    pSets = 'BouncingBall_pSets_' + j + '.json'\n",
    "    simulate_event = {'parameter_file': pSets,\n",
    "        'input_file': 'BouncingBall_iSet.json',\n",
    "        'fmu_file': 'BouncingBall.fmu',\n",
    "        'start_time': 0,\n",
    "        'end_time': 10,\n",
    "        'threshold': 3,\n",
    "        'step_size': 0.01,\n",
    "        'index': j}\n",
    "    # invoke the lambda with the input data using the payload argument\n",
    "    # InvocationType - https://boto3.amazonaws.com/v1/documentation/api/latest/reference/services/lambda.html#:~:text=To%20invoke%20a%20function%20asynchronously%2C%20set%20InvocationType%20to%20Event%20.\n",
    "    response = lambda_client.invoke(\n",
    "        FunctionName='simulateCoupledClutches',\n",
    "        InvocationType='Event',\n",
    "        Payload=json.dumps(simulate_event),\n",
    "    )\n",
    "    #print(response['Payload'])\n",
    "    #print(response['Payload'].read().decode(\"utf-8\"))\n",
    "    # for some reason, trying to print the above results in blank lines\n"
   ]
  },
  {
   "cell_type": "markdown",
   "id": "921bae1e",
   "metadata": {},
   "source": [
    "- #### NOTE: downloads ALL files from the S3 bucket\n"
   ]
  },
  {
   "cell_type": "code",
   "execution_count": 30,
   "id": "bc2f3861",
   "metadata": {},
   "outputs": [],
   "source": [
    "#### NOTE: downloads ALL files from the S3 bucket\n",
    "s3_resource = boto3.resource('s3')\n",
    "\n",
    "my_bucket = s3_resource.Bucket(results_bucket)\n",
    "\n",
    "for s3_object in my_bucket.objects.all():\n",
    "    path, filename = os.path.split(s3_object.key)\n",
    "    my_bucket.download_file(s3_object.key, filename)\n",
    "    \n"
   ]
  },
  {
   "cell_type": "code",
   "execution_count": 31,
   "id": "5e6b0782",
   "metadata": {},
   "outputs": [
    {
     "data": {
      "text/html": [
       "<div>\n",
       "<style scoped>\n",
       "    .dataframe tbody tr th:only-of-type {\n",
       "        vertical-align: middle;\n",
       "    }\n",
       "\n",
       "    .dataframe tbody tr th {\n",
       "        vertical-align: top;\n",
       "    }\n",
       "\n",
       "    .dataframe thead th {\n",
       "        text-align: right;\n",
       "    }\n",
       "</style>\n",
       "<table border=\"1\" class=\"dataframe\">\n",
       "  <thead>\n",
       "    <tr style=\"text-align: right;\">\n",
       "      <th></th>\n",
       "      <th>time</th>\n",
       "      <th>g</th>\n",
       "      <th>h</th>\n",
       "      <th>v</th>\n",
       "    </tr>\n",
       "  </thead>\n",
       "  <tbody>\n",
       "    <tr>\n",
       "      <th>0</th>\n",
       "      <td>0.01</td>\n",
       "      <td>-9.8</td>\n",
       "      <td>0.999559</td>\n",
       "      <td>-0.098</td>\n",
       "    </tr>\n",
       "    <tr>\n",
       "      <th>1</th>\n",
       "      <td>0.02</td>\n",
       "      <td>-9.8</td>\n",
       "      <td>0.998138</td>\n",
       "      <td>-0.196</td>\n",
       "    </tr>\n",
       "    <tr>\n",
       "      <th>2</th>\n",
       "      <td>0.03</td>\n",
       "      <td>-9.8</td>\n",
       "      <td>0.995737</td>\n",
       "      <td>-0.294</td>\n",
       "    </tr>\n",
       "    <tr>\n",
       "      <th>3</th>\n",
       "      <td>0.04</td>\n",
       "      <td>-9.8</td>\n",
       "      <td>0.992356</td>\n",
       "      <td>-0.392</td>\n",
       "    </tr>\n",
       "    <tr>\n",
       "      <th>4</th>\n",
       "      <td>0.05</td>\n",
       "      <td>-9.8</td>\n",
       "      <td>0.987995</td>\n",
       "      <td>-0.490</td>\n",
       "    </tr>\n",
       "  </tbody>\n",
       "</table>\n",
       "</div>"
      ],
      "text/plain": [
       "   time    g         h      v\n",
       "0  0.01 -9.8  0.999559 -0.098\n",
       "1  0.02 -9.8  0.998138 -0.196\n",
       "2  0.03 -9.8  0.995737 -0.294\n",
       "3  0.04 -9.8  0.992356 -0.392\n",
       "4  0.05 -9.8  0.987995 -0.490"
      ]
     },
     "execution_count": 31,
     "metadata": {},
     "output_type": "execute_result"
    }
   ],
   "source": [
    "# plotting 3 from a previous simulation as an example \n",
    "# (where the gravity value increased by 1 each time, making the ball bounce slower)\n",
    "df_sweep_ball_1 = pd.read_csv('BouncingBall.fmu_2022_07_14_22_07_21_Results_Run1.csv')\n",
    "df_sweep_ball_2 = pd.read_csv('BouncingBall.fmu_2022_07_14_22_07_23_Results_Run5.csv')\n",
    "df_sweep_ball_3 = pd.read_csv('BouncingBall.fmu_2022_07_14_22_07_24_Results_Run10.csv')\n",
    "df_sweep_ball_1.head()"
   ]
  },
  {
   "cell_type": "code",
   "execution_count": 32,
   "id": "662c583b",
   "metadata": {
    "scrolled": true
   },
   "outputs": [
    {
     "data": {
      "text/plain": [
       "[<matplotlib.lines.Line2D at 0x7f97d1bf1af0>]"
      ]
     },
     "execution_count": 32,
     "metadata": {},
     "output_type": "execute_result"
    },
    {
     "data": {
      "image/png": "[encoded data removed]",
      "text/plain": [
       "<Figure size 1152x360 with 6 Axes>"
      ]
     },
     "metadata": {
      "needs_background": "light"
     },
     "output_type": "display_data"
    }
   ],
   "source": [
    "# matplotlib subplot\n",
    "# plots time against velocity and height for all 3 dataframes\n",
    "fig, axs = plt.subplots(nrows=2, ncols=3, figsize=(16,5))\n",
    "axs[0, 0].plot(df_sweep_ball_1['time'], df_sweep_ball_1['h'])\n",
    "axs[0, 0].set_ylabel('Height of ball (m)')\n",
    "axs[0, 0].set_title('g = -9.8 m/s^2')\n",
    "axs[0, 1].plot(df_sweep_ball_2['time'], df_sweep_ball_2['h'])\n",
    "axs[0, 1].set_title('g = -5.8 m/s^2')\n",
    "axs[0, 2].plot(df_sweep_ball_3['time'], df_sweep_ball_3['h'])\n",
    "axs[0, 2].set_title('g = -0.8 m/s^2')\n",
    "axs[1, 0].plot(df_sweep_ball_1['time'], df_sweep_ball_1['v'])\n",
    "axs[1, 0].set_ylabel('Velocity of ball (m/s)')\n",
    "axs[1, 1].plot(df_sweep_ball_2['time'], df_sweep_ball_2['v'])\n",
    "axs[1, 1].set_xlabel('Time (s)')\n",
    "axs[1, 2].plot(df_sweep_ball_3['time'], df_sweep_ball_3['v'])"
   ]
  },
  {
   "cell_type": "markdown",
   "id": "994fc5b8",
   "metadata": {},
   "source": [
    "### Real time factor (RTF)\n",
    "- Important to note this value for each model you simulate (there is a tradeoff between simulation accuracy and speed)\n",
    "- Higher fidelity models will likely have a lower RTF (< 1), however running the Lambdas in parallel aims to improve this"
   ]
  },
  {
   "cell_type": "code",
   "execution_count": 81,
   "id": "3c437044",
   "metadata": {
    "scrolled": true
   },
   "outputs": [],
   "source": [
    "# get all the Bouncing ball report files in the current directory\n",
    "csv_files = glob.glob(\"BouncingBall.fmu_*_Report_Run*.csv\")\n",
    "#print(csv_files)\n",
    "df_list = (pd.read_csv(file) for file in csv_files)\n",
    "# merge the CSVs into one large dataframe\n",
    "big_df = pd.concat(df_list, ignore_index=True)\n",
    "\n",
    "#print(big_df)\n",
    "# to truncate list to length 100, in case there are more than 100 files in the bucket\n",
    "n = len(big_df) - 100\n",
    "big_df.drop(big_df.tail(n-0).index,\n",
    "        inplace = True)"
   ]
  },
  {
   "cell_type": "code",
   "execution_count": 82,
   "id": "47303b5c",
   "metadata": {},
   "outputs": [
    {
     "data": {
      "image/png": "[encoded data removed]",
      "text/plain": [
       "<Figure size 432x288 with 1 Axes>"
      ]
     },
     "metadata": {
      "needs_background": "light"
     },
     "output_type": "display_data"
    }
   ],
   "source": [
    "# plotting\n",
    "rtf_array = big_df['Real time factor (sim. time / real time)']\n",
    "plt.plot(rtf_array)\n",
    "plt.ylabel('RTF (sim. time / real time)')\n",
    "plt.xlabel('Simulation run #')\n",
    "# seem like some simulations run faster than others\n",
    "plt.savefig('AWS_RTF_Graph_BouncingBall_100Runs.png')"
   ]
  },
  {
   "cell_type": "code",
   "execution_count": 83,
   "id": "c2f54177",
   "metadata": {},
   "outputs": [
    {
     "name": "stdout",
     "output_type": "stream",
     "text": [
      "Average RTF for Lambda runs: 32.19408581323855\n"
     ]
    }
   ],
   "source": [
    "# find average RTFm over the simulation runs\n",
    "sum_rtf = 0\n",
    "for i in rtf_array:\n",
    "    sum_rtf = sum_rtf + i\n",
    "average_rtf = sum_rtf/len(rtf_array)\n",
    "print('Average RTF for Lambda runs:', average_rtf)"
   ]
  },
  {
   "cell_type": "markdown",
   "id": "102565f4",
   "metadata": {},
   "source": [
    "### More complex model\n",
    "- DiscreteController.fmu\n",
    "- The dump() function prints out model info"
   ]
  },
  {
   "cell_type": "code",
   "execution_count": 33,
   "id": "00de68ac",
   "metadata": {},
   "outputs": [
    {
     "name": "stdout",
     "output_type": "stream",
     "text": [
      "\n",
      "Model Info\n",
      "\n",
      "  FMI Version        2.0\n",
      "  FMI Type           Model Exchange\n",
      "  Model Name         sb_DCMotor_Controller\n",
      "  Description         \n",
      "  Platforms          linux64\n",
      "  Continuous States  3\n",
      "  Event Indicators   0\n",
      "  Variables          60\n",
      "  Generation Tool    Activate\n",
      "  Generation Date    2020-11-17T14:41:10Z\n",
      "\n",
      "Default Experiment\n",
      "\n",
      "  Stop Time          10.0\n",
      "  Tolerance          1e-06\n",
      "  Step Size          0.001\n",
      "\n",
      "Variables (input, output)\n",
      "\n",
      "  Name               Causality              Start Value  Unit     Description\n",
      "  DCMotor_angle      output                                       index:57 ,output variable:SCSREAL_COP\n",
      "  DCMotot_speed      output                                       index:58 ,output variable:SCSREAL_COP\n",
      "  controller_output  output                                       index:59 ,output variable:SCSREAL_COP\n",
      "  Reference_angle    input                          0.0           index:60 ,input variable:SCSREAL_COP\n"
     ]
    }
   ],
   "source": [
    "# print out model information\n",
    "fmu_name = 'DiscreteController'\n",
    "dump(fmu_name + '.fmu')"
   ]
  },
  {
   "cell_type": "markdown",
   "id": "095bb2b5",
   "metadata": {},
   "source": [
    "- Grabbing inputs and parameters to add to the JSON files"
   ]
  },
  {
   "cell_type": "code",
   "execution_count": 34,
   "id": "f39a5831",
   "metadata": {},
   "outputs": [
    {
     "name": "stdout",
     "output_type": "stream",
     "text": [
      "All parameters: {'Solver.Time_Tolerance': 2, 'Solver.Absolute_Tolerance': 1, 'Solver.Relative_Tolerance': 0, 'Ipar.(12,1)': 26, 'Ipar.(11,1)': 25, 'Ipar.(10,1)': 24, 'Ipar.(9,1)': 23, 'Ipar.(8,1)': 22, 'Ipar.(7,1)': 21, 'Ipar.(6,1)': 20, 'Ipar.(5,1)': 19, 'Ipar.(4,1)': 18, 'Ipar.(3,1)': 17, 'Ipar.(2,1)': 16, 'Ipar.(1,1)': 15, 'VssVirtualSampleClock1.offset': 29, 'VssVirtualSampleClock1.period': 28, 'VssVirtualSampleClock1.offsets': 14, 'VssVirtualSampleClock1.periods': 13, 'DiscrTransFunc.opar4': 27, 'DiscrTransFunc.opar3.(1,2)': 26, 'DiscrTransFunc.opar3.(1,1)': 25, 'DiscrTransFunc.opar2.(2,1)': 24, 'DiscrTransFunc.opar2.(1,1)': 23, 'DiscrTransFunc.opar1.(2,2)': 22, 'DiscrTransFunc.opar1.(1,2)': 21, 'DiscrTransFunc.opar1.(2,1)': 20, 'DiscrTransFunc.opar1.(1,1)': 19, 'Gain_6.opar3': 12, 'Gain_6.opar2': 11, 'Gain_6.opar1': 18, 'Gain_6_1.opar3': 10, 'Gain_6_1.opar2': 9, 'Gain_6_1.opar1': 17, 'Gain_2.opar3': 8, 'Gain_2.opar2': 7, 'Gain_2.opar1': 16, 'Gain_1.opar3': 6, 'Gain_1.opar2': 5, 'Gain_1.opar1': 15, 'Gain_3.opar3': 4, 'Gain_3.opar2': 3, 'Gain_3.opar1': 14, 'Gain_4.opar3': 2, 'Gain_4.opar2': 1, 'Gain_4.opar1': 13, 'Oz(2)': 12, 'Oz(1)': 0, 'dstate[1]': 11, 'dstate[0]': 10, 'state[2]': 8, 'der(state[2])': 9, 'state[1]': 6, 'der(state[1])': 7, 'state[0]': 4, 'der(state[0])': 5, 'DCMotor_angle': 3, 'DCMotot_speed': 2, 'controller_output': 1, 'Reference_angle': 0}\n"
     ]
    }
   ],
   "source": [
    "# print out all variables, including parameters\n",
    "model_description = read_model_description(fmu_name + '.fmu')\n",
    "\n",
    "vrs = {}\n",
    "for variable in model_description.modelVariables:\n",
    "    vrs[variable.name] = variable.valueReference\n",
    "print('All parameters:', vrs)"
   ]
  },
  {
   "cell_type": "markdown",
   "id": "ee57c71e",
   "metadata": {},
   "source": [
    "- Need to replace single quotes with double quotes, otherwise the Lambda won't be able to read the JSON"
   ]
  },
  {
   "cell_type": "code",
   "execution_count": 8,
   "id": "935d5d8b",
   "metadata": {},
   "outputs": [],
   "source": [
    "# create iSet and pSets files with example values\n",
    "# could also use a loop to create many JSON files with different input values\n",
    "discrete_iset = str({\"Reference_angle\": 3.14159})\n",
    "discrete_pset = str({})\n",
    "discrete_iset = discrete_iset.replace(\"\\'\", \"\\\"\")\n",
    "discrete_pset = discrete_pset.replace(\"\\'\", \"\\\"\")\n",
    "# write to new json files\n",
    "with open(fmu_name + '_pSets.json', 'w') as f:\n",
    "    f.write(str(discrete_pset))\n",
    "with open(fmu_name + '_iSet.json', 'w') as f:\n",
    "    f.write(str(discrete_iset))"
   ]
  },
  {
   "cell_type": "markdown",
   "id": "40f20d4e",
   "metadata": {},
   "source": [
    "- Uploading new files to S3"
   ]
  },
  {
   "cell_type": "code",
   "execution_count": 9,
   "id": "adaee4fd",
   "metadata": {},
   "outputs": [],
   "source": [
    "# upload to S3\n",
    "s3_client.upload_file(fmu_name + '.fmu', 'fmpy-bucket', fmu_name + '.fmu')\n",
    "s3_client.upload_file(fmu_name + '_iSet.json', 'fmpy-bucket', fmu_name + '_iSet.json')\n",
    "s3_client.upload_file(fmu_name + '_pSets.json', 'fmpy-bucket', fmu_name + '_pSets.json')\n"
   ]
  },
  {
   "cell_type": "markdown",
   "id": "33ef712b",
   "metadata": {},
   "source": [
    "- Running the simulation 100 times asynchronously "
   ]
  },
  {
   "cell_type": "code",
   "execution_count": 14,
   "id": "cf930d89",
   "metadata": {},
   "outputs": [
    {
     "name": "stdout",
     "output_type": "stream",
     "text": [
      "<botocore.response.StreamingBody object at 0x7f97d3a55fd0>\n",
      "\n",
      "<botocore.response.StreamingBody object at 0x7f97d3a55610>\n",
      "\n",
      "<botocore.response.StreamingBody object at 0x7f97d3a559a0>\n",
      "\n",
      "<botocore.response.StreamingBody object at 0x7f97d3a55760>\n",
      "\n",
      "<botocore.response.StreamingBody object at 0x7f97d3a551f0>\n",
      "\n",
      "<botocore.response.StreamingBody object at 0x7f97d3a556d0>\n",
      "\n",
      "<botocore.response.StreamingBody object at 0x7f97d3a55b80>\n",
      "\n",
      "<botocore.response.StreamingBody object at 0x7f97d3a557c0>\n",
      "\n",
      "<botocore.response.StreamingBody object at 0x7f97d3a55820>\n",
      "\n",
      "<botocore.response.StreamingBody object at 0x7f97d3a551f0>\n",
      "\n",
      "<botocore.response.StreamingBody object at 0x7f97d3a55d90>\n",
      "\n",
      "<botocore.response.StreamingBody object at 0x7f97d3a55700>\n",
      "\n",
      "<botocore.response.StreamingBody object at 0x7f97d3a55940>\n",
      "\n",
      "<botocore.response.StreamingBody object at 0x7f97d3a55d60>\n",
      "\n",
      "<botocore.response.StreamingBody object at 0x7f97d3a551f0>\n",
      "\n",
      "<botocore.response.StreamingBody object at 0x7f97d3a55490>\n",
      "\n",
      "<botocore.response.StreamingBody object at 0x7f97d3a55a00>\n",
      "\n",
      "<botocore.response.StreamingBody object at 0x7f97d3a55940>\n",
      "\n",
      "<botocore.response.StreamingBody object at 0x7f97d3a55970>\n",
      "\n",
      "<botocore.response.StreamingBody object at 0x7f97d3a55d30>\n",
      "\n",
      "<botocore.response.StreamingBody object at 0x7f97d3a55490>\n",
      "\n",
      "<botocore.response.StreamingBody object at 0x7f97d3a55fd0>\n",
      "\n",
      "<botocore.response.StreamingBody object at 0x7f97d3a55370>\n",
      "\n",
      "<botocore.response.StreamingBody object at 0x7f97d3a559d0>\n",
      "\n",
      "<botocore.response.StreamingBody object at 0x7f97d3a58100>\n",
      "\n",
      "<botocore.response.StreamingBody object at 0x7f97d3a554c0>\n",
      "\n",
      "<botocore.response.StreamingBody object at 0x7f97d3a5f8b0>\n",
      "\n",
      "<botocore.response.StreamingBody object at 0x7f97d3a55910>\n",
      "\n",
      "<botocore.response.StreamingBody object at 0x7f97d3a5f8b0>\n",
      "\n",
      "<botocore.response.StreamingBody object at 0x7f97d3a55fd0>\n",
      "\n",
      "<botocore.response.StreamingBody object at 0x7f97d3a58760>\n",
      "\n",
      "<botocore.response.StreamingBody object at 0x7f97d3a55bb0>\n",
      "\n",
      "<botocore.response.StreamingBody object at 0x7f97da3c6940>\n",
      "\n",
      "<botocore.response.StreamingBody object at 0x7f97d3a55370>\n",
      "\n",
      "<botocore.response.StreamingBody object at 0x7f97d3a58a00>\n",
      "\n",
      "<botocore.response.StreamingBody object at 0x7f97d3a55160>\n",
      "\n",
      "<botocore.response.StreamingBody object at 0x7f97db3452e0>\n",
      "\n",
      "<botocore.response.StreamingBody object at 0x7f97d3a55910>\n",
      "\n",
      "<botocore.response.StreamingBody object at 0x7f97d3a583a0>\n",
      "\n",
      "<botocore.response.StreamingBody object at 0x7f97d3a55760>\n",
      "\n",
      "<botocore.response.StreamingBody object at 0x7f97da3c6940>\n",
      "\n",
      "<botocore.response.StreamingBody object at 0x7f97d3a55220>\n",
      "\n",
      "<botocore.response.StreamingBody object at 0x7f97d3a585b0>\n",
      "\n",
      "<botocore.response.StreamingBody object at 0x7f97d3a556a0>\n",
      "\n",
      "<botocore.response.StreamingBody object at 0x7f97d3a58070>\n",
      "\n",
      "<botocore.response.StreamingBody object at 0x7f97d3a556d0>\n",
      "\n",
      "<botocore.response.StreamingBody object at 0x7f97d3a5f070>\n",
      "\n",
      "<botocore.response.StreamingBody object at 0x7f97d3a55e80>\n",
      "\n",
      "<botocore.response.StreamingBody object at 0x7f97d3a63fa0>\n",
      "\n",
      "<botocore.response.StreamingBody object at 0x7f97d3a55d00>\n",
      "\n",
      "<botocore.response.StreamingBody object at 0x7f97d3a5f790>\n",
      "\n",
      "<botocore.response.StreamingBody object at 0x7f97d3a558b0>\n",
      "\n",
      "<botocore.response.StreamingBody object at 0x7f97d3a58070>\n",
      "\n",
      "<botocore.response.StreamingBody object at 0x7f97d3a556a0>\n",
      "\n",
      "<botocore.response.StreamingBody object at 0x7f97d3a631f0>\n",
      "\n",
      "<botocore.response.StreamingBody object at 0x7f97d3a55d00>\n",
      "\n",
      "<botocore.response.StreamingBody object at 0x7f97d3a5fa30>\n",
      "\n",
      "<botocore.response.StreamingBody object at 0x7f97d3a55220>\n",
      "\n",
      "<botocore.response.StreamingBody object at 0x7f97d3a58970>\n",
      "\n",
      "<botocore.response.StreamingBody object at 0x7f97d3a55fd0>\n",
      "\n",
      "<botocore.response.StreamingBody object at 0x7f97d3abbf70>\n",
      "\n",
      "<botocore.response.StreamingBody object at 0x7f97d3a55160>\n",
      "\n",
      "<botocore.response.StreamingBody object at 0x7f97d3a63070>\n",
      "\n",
      "<botocore.response.StreamingBody object at 0x7f97d3a55d30>\n",
      "\n",
      "<botocore.response.StreamingBody object at 0x7f97d3a55bb0>\n",
      "\n",
      "<botocore.response.StreamingBody object at 0x7f97d3a5f8b0>\n",
      "\n",
      "<botocore.response.StreamingBody object at 0x7f97da3c6670>\n",
      "\n",
      "<botocore.response.StreamingBody object at 0x7f97d3a55fd0>\n",
      "\n",
      "<botocore.response.StreamingBody object at 0x7f97d3a55e80>\n",
      "\n",
      "<botocore.response.StreamingBody object at 0x7f97d3a586d0>\n",
      "\n",
      "<botocore.response.StreamingBody object at 0x7f97d3a55250>\n",
      "\n",
      "<botocore.response.StreamingBody object at 0x7f97d3a64d90>\n",
      "\n",
      "<botocore.response.StreamingBody object at 0x7f97d3a64070>\n",
      "\n",
      "<botocore.response.StreamingBody object at 0x7f97d3a64e20>\n",
      "\n",
      "<botocore.response.StreamingBody object at 0x7f97d3a586d0>\n",
      "\n",
      "<botocore.response.StreamingBody object at 0x7f97d3a64850>\n",
      "\n",
      "<botocore.response.StreamingBody object at 0x7f97d3a58970>\n",
      "\n",
      "<botocore.response.StreamingBody object at 0x7f97d3a64ee0>\n",
      "\n",
      "<botocore.response.StreamingBody object at 0x7f97d3a585b0>\n",
      "\n",
      "<botocore.response.StreamingBody object at 0x7f97d3a5f070>\n",
      "\n",
      "<botocore.response.StreamingBody object at 0x7f97d3a583a0>\n",
      "\n",
      "<botocore.response.StreamingBody object at 0x7f97d3a58100>\n",
      "\n",
      "<botocore.response.StreamingBody object at 0x7f97d3a55d30>\n",
      "\n",
      "<botocore.response.StreamingBody object at 0x7f97d3a58100>\n",
      "\n",
      "<botocore.response.StreamingBody object at 0x7f97d3a55250>\n",
      "\n",
      "<botocore.response.StreamingBody object at 0x7f97d3a64ee0>\n",
      "\n",
      "<botocore.response.StreamingBody object at 0x7f97d3a55250>\n",
      "\n",
      "<botocore.response.StreamingBody object at 0x7f97d3a64ca0>\n",
      "\n",
      "<botocore.response.StreamingBody object at 0x7f97d3a5fa30>\n",
      "\n",
      "<botocore.response.StreamingBody object at 0x7f97d3a64f40>\n",
      "\n",
      "<botocore.response.StreamingBody object at 0x7f97d3a5f790>\n",
      "\n",
      "<botocore.response.StreamingBody object at 0x7f97d3a64160>\n",
      "\n",
      "<botocore.response.StreamingBody object at 0x7f97d3a60550>\n",
      "\n",
      "<botocore.response.StreamingBody object at 0x7f97d3a586d0>\n",
      "\n",
      "<botocore.response.StreamingBody object at 0x7f97d3a60310>\n",
      "\n",
      "<botocore.response.StreamingBody object at 0x7f97d3a583a0>\n",
      "\n",
      "<botocore.response.StreamingBody object at 0x7f97d3a60910>\n",
      "\n",
      "<botocore.response.StreamingBody object at 0x7f97d3a64e20>\n",
      "\n",
      "<botocore.response.StreamingBody object at 0x7f97d3a55e80>\n",
      "\n",
      "<botocore.response.StreamingBody object at 0x7f97d3a601f0>\n",
      "\n"
     ]
    }
   ],
   "source": [
    "for i in range(100):\n",
    "    index = i+1\n",
    "\n",
    "    simulate_event = {'parameter_file': fmu_name + '_pSets.json',\n",
    "            'input_file': fmu_name + '_iSet.json',\n",
    "            'fmu_file': fmu_name + '.fmu',\n",
    "            'start_time': 0,\n",
    "            'end_time': 10,\n",
    "            'threshold': 3,\n",
    "            'step_size': 0.01,\n",
    "            'index': str(index)}\n",
    "\n",
    "    response = lambda_client.invoke(\n",
    "            FunctionName='simulateCoupledClutches',\n",
    "            InvocationType='Event',\n",
    "            Payload=json.dumps(simulate_event),\n",
    "        )\n",
    "    print(response['Payload'])\n",
    "    print(response['Payload'].read().decode(\"utf-8\"))"
   ]
  },
  {
   "cell_type": "markdown",
   "id": "c15c5684",
   "metadata": {},
   "source": [
    "- Download results and plot "
   ]
  },
  {
   "cell_type": "code",
   "execution_count": 15,
   "id": "6af97594",
   "metadata": {},
   "outputs": [],
   "source": [
    "# Note: downloads ALL files from the S3 bucket\n",
    "# uncomment below only if you don't already have result files for DiscreteController on your local machine\n",
    "\n",
    "#s3_resource = boto3.resource('s3')\n",
    "\n",
    "#my_bucket = s3_resource.Bucket(results_bucket)\n",
    "\n",
    "#for s3_object in my_bucket.objects.all():\n",
    "#    path, filename = os.path.split(s3_object.key)\n",
    "#    my_bucket.download_file(s3_object.key, filename)\n",
    " "
   ]
  },
  {
   "cell_type": "code",
   "execution_count": 23,
   "id": "688c6c73",
   "metadata": {},
   "outputs": [
    {
     "name": "stdout",
     "output_type": "stream",
     "text": [
      "DiscreteController.fmu_2022_07_17_00_31_27_Results_Run99.csv\n"
     ]
    }
   ],
   "source": [
    "# print report of the simulation\n",
    "list_of_files = glob.glob('DiscreteController*_Results_Run*.csv')\n",
    "latest_file = max(list_of_files, key=os.path.getctime)\n",
    "print(latest_file)"
   ]
  },
  {
   "cell_type": "code",
   "execution_count": 25,
   "id": "75c4ee29",
   "metadata": {},
   "outputs": [
    {
     "data": {
      "text/plain": [
       "Text(0.5, 1.0, 'DC Motor Angle')"
      ]
     },
     "execution_count": 25,
     "metadata": {},
     "output_type": "execute_result"
    },
    {
     "data": {
      "image/png": "[encoded data removed]",
      "text/plain": [
       "<Figure size 432x288 with 1 Axes>"
      ]
     },
     "metadata": {
      "needs_background": "light"
     },
     "output_type": "display_data"
    }
   ],
   "source": [
    "df2 = pd.read_csv(latest_file)\n",
    "plt.plot(df2['time'], df2['DCMotor_angle'], label=\"DC Motor angle\", color=\"red\")\n",
    "plt.xlabel('Time (s)')\n",
    "plt.ylabel('Radians')\n",
    "plt.title('DC Motor Angle')\n",
    "#plt.legend()"
   ]
  },
  {
   "cell_type": "code",
   "execution_count": 26,
   "id": "fc74d931",
   "metadata": {},
   "outputs": [
    {
     "data": {
      "text/plain": [
       "Text(0.5, 1.0, 'DC Motor Speed')"
      ]
     },
     "execution_count": 26,
     "metadata": {},
     "output_type": "execute_result"
    },
    {
     "data": {
      "image/png": "[encoded data removed]",
      "text/plain": [
       "<Figure size 432x288 with 1 Axes>"
      ]
     },
     "metadata": {
      "needs_background": "light"
     },
     "output_type": "display_data"
    }
   ],
   "source": [
    "plt.plot(df2['time'], df2['DCMotot_speed'], label=\"DC Motor speed\")\n",
    "plt.xlabel('Time (s)')\n",
    "plt.ylabel('Radians/second')\n",
    "plt.title('DC Motor Speed')"
   ]
  },
  {
   "cell_type": "code",
   "execution_count": 27,
   "id": "9e563e5e",
   "metadata": {
    "scrolled": true
   },
   "outputs": [
    {
     "data": {
      "text/plain": [
       "Text(0.5, 0, 'Time (s)')"
      ]
     },
     "execution_count": 27,
     "metadata": {},
     "output_type": "execute_result"
    },
    {
     "data": {
      "image/png": "[encoded data removed]",
      "text/plain": [
       "<Figure size 1440x144 with 1 Axes>"
      ]
     },
     "metadata": {
      "needs_background": "light"
     },
     "output_type": "display_data"
    }
   ],
   "source": [
    "# plot controller output\n",
    "fig = plt.figure(figsize=(20, 2))\n",
    "ax = fig.add_subplot(111)\n",
    "ax.plot(df2['time'], df2['controller_output'])\n",
    "ax.set_xlabel('Time (s)')"
   ]
  },
  {
   "cell_type": "markdown",
   "id": "35eefcae",
   "metadata": {},
   "source": [
    "### RTF plotting for more complex model"
   ]
  },
  {
   "cell_type": "code",
   "execution_count": 2,
   "id": "4adcf97d",
   "metadata": {
    "scrolled": true
   },
   "outputs": [],
   "source": [
    "# get all the Bouncing ball report files in the current directory\n",
    "csv_files = glob.glob(\"DiscreteController.fmu_*_Report_Run*.csv\")\n",
    "#print(csv_files)\n",
    "df_list = (pd.read_csv(file) for file in csv_files)\n",
    "# merge the CSVs into one large dataframe\n",
    "big_df = pd.concat(df_list, ignore_index=True)\n",
    "\n",
    "#print(big_df)\n",
    "# to truncate list to length 100\n",
    "n = len(big_df) - 100\n",
    "big_df.drop(big_df.tail(n-0).index,\n",
    "        inplace = True)"
   ]
  },
  {
   "cell_type": "code",
   "execution_count": 3,
   "id": "2c715a74",
   "metadata": {
    "scrolled": true
   },
   "outputs": [
    {
     "data": {
      "image/png": "[encoded data removed]",
      "text/plain": [
       "<Figure size 432x288 with 1 Axes>"
      ]
     },
     "metadata": {
      "needs_background": "light"
     },
     "output_type": "display_data"
    }
   ],
   "source": [
    "# plotting\n",
    "# may go over 100 simulation runs due to additional csv files present from previous runs\n",
    "rtf_array = big_df['Real time factor (sim. time / real time)']\n",
    "plt.plot(rtf_array)\n",
    "plt.ylabel('RTF (sim. time / real time)')\n",
    "plt.xlabel('Simulation run #')\n",
    "# seem like some simulations run faster than others\n",
    "plt.savefig('AWS_RTF_Graph_DiscreteController_100Runs.png')"
   ]
  },
  {
   "cell_type": "code",
   "execution_count": 5,
   "id": "7c8f0823",
   "metadata": {},
   "outputs": [
    {
     "name": "stdout",
     "output_type": "stream",
     "text": [
      "Average RTF for Lambda runs: 11.359903974721169\n"
     ]
    }
   ],
   "source": [
    "# calculating average RTF\n",
    "sum_rtf = 0\n",
    "for i in rtf_array:\n",
    "    sum_rtf = sum_rtf + i\n",
    "average_rtf = sum_rtf/len(rtf_array)\n",
    "print('Average RTF for Lambda runs:', average_rtf)"
   ]
  },
  {
   "cell_type": "code",
   "execution_count": null,
   "id": "6e254b70",
   "metadata": {},
   "outputs": [],
   "source": []
  }
 ],
 "metadata": {
  "kernelspec": {
   "display_name": "Python 3 (ipykernel)",
   "language": "python",
   "name": "python3"
  },
  "language_info": {
   "codemirror_mode": {
    "name": "ipython",
    "version": 3
   },
   "file_extension": ".py",
   "mimetype": "text/x-python",
   "name": "python",
   "nbconvert_exporter": "python",
   "pygments_lexer": "ipython3",
   "version": "3.8.10"
  }
 },
 "nbformat": 4,
 "nbformat_minor": 5
}
