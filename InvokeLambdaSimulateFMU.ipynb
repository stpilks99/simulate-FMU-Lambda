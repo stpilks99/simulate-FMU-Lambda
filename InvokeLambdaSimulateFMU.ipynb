{
 "cells": [
  {
   "cell_type": "markdown",
   "id": "cfd817d8",
   "metadata": {},
   "source": [
    "### Imports"
   ]
  },
  {
   "cell_type": "code",
   "execution_count": 1,
   "id": "b96cfb6a",
   "metadata": {},
   "outputs": [],
   "source": [
    "import matplotlib.pyplot as plt\n",
    "from fmpy import *\n",
    "import numpy as np\n",
    "import pandas as pd\n",
    "import boto3\n",
    "import json\n",
    "import os\n",
    "import glob"
   ]
  },
  {
   "cell_type": "markdown",
   "id": "593d51e3",
   "metadata": {},
   "source": [
    "### Upload FMU files to S3 bucket\n",
    "- BouncingBall.fmu - the FMU archive you want to simulate (must be compiled for linux64 platform or the simulation will fail)\n",
    "- BouncingBall_pSets.json - the set of model parameters (values that are constant for each simulation loop)\n",
    "- BouncingBall_iSet.json - the set of time series inputs for the model (time series interpolation)"
   ]
  },
  {
   "cell_type": "code",
   "execution_count": 2,
   "id": "7b7901be",
   "metadata": {
    "scrolled": true
   },
   "outputs": [],
   "source": [
    "# instantiate boto3 s3 client\n",
    "s3_client = boto3.client('s3')\n",
    "# upload the files (name of the local file, name of bucket, the name you want for the file in s3)\n",
    "s3_client.upload_file('BouncingBall.fmu', 'fmpy-bucket', 'BouncingBall.fmu')\n",
    "s3_client.upload_file('BouncingBall_pSets.json', 'fmpy-bucket', 'BouncingBall_pSets.json')\n",
    "s3_client.upload_file('BouncingBall_iSet.json', 'fmpy-bucket', 'BouncingBall_iSet.json')"
   ]
  },
  {
   "cell_type": "markdown",
   "id": "7096bf58",
   "metadata": {},
   "source": [
    "### Lambda inputs"
   ]
  },
  {
   "cell_type": "markdown",
   "id": "16630c03",
   "metadata": {},
   "source": [
    "\n",
    "https://hands-on.cloud/working-with-aws-lambda-in-python-using-boto3/#:~:text=To%20invoke%20the%20Lambda%20function,should%20contain%20JSON%20string%20data.\n",
    "- Each parameter set defines 1 instance of the model\n",
    "- If there are multiple parameter sets, can upload all at once (params, inputs, fmu file)\n",
    "- Trigger lambdas based on those files\n",
    "- Example: {\n",
    "    'parameter_file': 'BouncingBall_pSets.json',\n",
    "    'input_file': 'BouncingBall_iSet.json',\n",
    "    'fmu_file': 'BouncingBall.fmu',\n",
    "    'step_size': 0.01\n",
    "}\n",
    "- When invoking the Lambda, we can provide it some input data such as model start time, end time, and which json files to use. Note, all the inputs shown in the cell below are required for the simulation to run\n",
    "\n",
    "\n"
   ]
  },
  {
   "cell_type": "markdown",
   "id": "a11aab4f",
   "metadata": {},
   "source": [
    "The Lambda takes the following inputs:\n",
    "- parameter_file: JSON file describing model parameter names and values (are constant for each simulation run)\n",
    "- input_file: JSON file describing model input names and values (can be time series inputs)\n",
    "- fmu_file: the name of the FMU file you want to simulate on S3\n",
    "- start_time: simulation start time\n",
    "- end_time: simulation end time\n",
    "- index: used when a for loop invokes Lambdas in parallel (set index to 1 if only running one simulation)"
   ]
  },
  {
   "cell_type": "code",
   "execution_count": 3,
   "id": "3b74aeda",
   "metadata": {},
   "outputs": [],
   "source": [
    "# define data to send to lambda as inputs\n",
    "lambda_client = boto3.client('lambda')\n",
    "# all times are in seconds\n",
    "simulate_event = {'parameter_file': 'BouncingBall_pSets.json',\n",
    "    'input_file': 'BouncingBall_iSet.json',\n",
    "    'fmu_file': 'BouncingBall.fmu',\n",
    "    'start_time': 0,\n",
    "    'end_time': 10,\n",
    "    'step_size': 0.01,\n",
    "    'index': 1}\n"
   ]
  },
  {
   "cell_type": "markdown",
   "id": "6e5c234a",
   "metadata": {},
   "source": [
    "### Invoke the Lambda\n",
    "- Now we will invoke (trigger) one instance of the Lambda using the simulate_event inputs\n",
    "- When finished, it will return the runtime, status code 200, and a success message\n",
    "- If it failed, it will return the relevant error message\n",
    "- Note, if you see a message about the simulation timing out or running out of memory, adjust the settings in the Lambda configuration page"
   ]
  },
  {
   "cell_type": "code",
   "execution_count": 4,
   "id": "05d045a0",
   "metadata": {},
   "outputs": [
    {
     "name": "stdout",
     "output_type": "stream",
     "text": [
      "<botocore.response.StreamingBody object at 0x7eff5b254460>\n",
      "{\"runtime\": \"0.884697675704956 second(s)\", \"statusCode\": 200, \"body\": \"\\\"Ran successfully!\\\"\"}\n"
     ]
    }
   ],
   "source": [
    "# invoke the lambda with the input data using the payload argument\n",
    "response = lambda_client.invoke(\n",
    "  FunctionName='simulateCoupledClutches',\n",
    "  Payload=json.dumps(simulate_event),\n",
    ")\n",
    "print(response['Payload'])\n",
    "print(response['Payload'].read().decode(\"utf-8\"))"
   ]
  },
  {
   "cell_type": "markdown",
   "id": "f7e5c43e",
   "metadata": {},
   "source": [
    "### Download latest CSV file\n",
    "- To plot the results, let's download the latest CSV file that was put into the S3 results bucket onto a local machine"
   ]
  },
  {
   "cell_type": "code",
   "execution_count": 5,
   "id": "70726c5a",
   "metadata": {
    "scrolled": true
   },
   "outputs": [],
   "source": [
    "# get the latest object from the s3 results bucket\n",
    "fmu_name = 'BouncingBall'\n",
    "def download_latest_file(fmu_name):\n",
    "    s3_client = boto3.client('s3')\n",
    "    response = s3_client.list_objects_v2(Bucket='simulate-fmu-results-bucket')\n",
    "    objects = sorted(response['Contents'], key=lambda obj: obj['LastModified'])\n",
    "    ## Latest object\n",
    "    latest_object = objects[-1]['Key']\n",
    "    filename = latest_object[latest_object.rfind('/')+1:] # Remove path\n",
    "    # Download it to current directory\n",
    "    s3_client.download_file('simulate-fmu-results-bucket', latest_object, filename)\n",
    "    "
   ]
  },
  {
   "cell_type": "code",
   "execution_count": 6,
   "id": "f598a111",
   "metadata": {},
   "outputs": [],
   "source": [
    "download_latest_file(fmu_name)"
   ]
  },
  {
   "cell_type": "code",
   "execution_count": 7,
   "id": "a482f7f7",
   "metadata": {},
   "outputs": [
    {
     "name": "stdout",
     "output_type": "stream",
     "text": [
      "BouncingBall.fmu_2022_07_13_03_31_47_.csv\n"
     ]
    }
   ],
   "source": [
    "list_of_files = glob.glob(fmu_name + '*.csv') # * means all if need specific format then *.csv\n",
    "latest_file = max(list_of_files, key=os.path.getctime)\n",
    "print(latest_file)"
   ]
  },
  {
   "cell_type": "markdown",
   "id": "f2303eb3",
   "metadata": {},
   "source": [
    "### Plot the results\n",
    "- Read data into Pandas dataframe\n",
    "- Plot the variables with respect to time using matplotlib"
   ]
  },
  {
   "cell_type": "code",
   "execution_count": 52,
   "id": "9ccdedf8",
   "metadata": {},
   "outputs": [
    {
     "name": "stdout",
     "output_type": "stream",
     "text": [
      "       time    g         h      v\n",
      "0      0.01 -9.8  0.999559 -0.098\n",
      "1      0.02 -9.8  0.998138 -0.196\n",
      "2      0.03 -9.8  0.995737 -0.294\n",
      "3      0.04 -9.8  0.992356 -0.392\n",
      "4      0.05 -9.8  0.987995 -0.490\n",
      "...     ...  ...       ...    ...\n",
      "996    9.97 -9.8  0.000000  0.000\n",
      "997    9.98 -9.8  0.000000  0.000\n",
      "998    9.99 -9.8  0.000000  0.000\n",
      "999   10.00 -9.8  0.000000  0.000\n",
      "1000  10.01 -9.8  0.000000  0.000\n",
      "\n",
      "[1001 rows x 4 columns]\n"
     ]
    }
   ],
   "source": [
    "# read the csv into a pandas dataframe\n",
    "df = pd.read_csv(latest_file)\n",
    "print(df)"
   ]
  },
  {
   "cell_type": "code",
   "execution_count": 53,
   "id": "7c9ee0df",
   "metadata": {},
   "outputs": [
    {
     "data": {
      "text/plain": [
       "Text(0, 0.5, 'Gravity')"
      ]
     },
     "execution_count": 53,
     "metadata": {},
     "output_type": "execute_result"
    },
    {
     "data": {
      "image/png": "[encoded data removed]",
      "text/plain": [
       "<Figure size 432x288 with 1 Axes>"
      ]
     },
     "metadata": {
      "needs_background": "light"
     },
     "output_type": "display_data"
    }
   ],
   "source": [
    "# plot inputs\n",
    "plt.plot(df['time'],df['g'])\n",
    "plt.xlabel(\"Time\")\n",
    "plt.ylabel(\"Gravity\")"
   ]
  },
  {
   "cell_type": "code",
   "execution_count": 54,
   "id": "fbebbd27",
   "metadata": {},
   "outputs": [
    {
     "data": {
      "text/plain": [
       "Text(0, 0.5, 'Height of ball')"
      ]
     },
     "execution_count": 54,
     "metadata": {},
     "output_type": "execute_result"
    },
    {
     "data": {
      "image/png": "[encoded data removed]",
      "text/plain": [
       "<Figure size 432x288 with 1 Axes>"
      ]
     },
     "metadata": {
      "needs_background": "light"
     },
     "output_type": "display_data"
    }
   ],
   "source": [
    "# plot outputs\n",
    "plt.plot(df['time'],df['h'])\n",
    "plt.xlabel(\"Time (seconds)\")\n",
    "plt.ylabel(\"Height of ball\")"
   ]
  },
  {
   "cell_type": "code",
   "execution_count": 55,
   "id": "9750eed4",
   "metadata": {
    "scrolled": true
   },
   "outputs": [
    {
     "data": {
      "text/plain": [
       "Text(0, 0.5, 'Velocity of ball (m/s)')"
      ]
     },
     "execution_count": 55,
     "metadata": {},
     "output_type": "execute_result"
    },
    {
     "data": {
      "image/png": "[encoded data removed]",
      "text/plain": [
       "<Figure size 432x288 with 1 Axes>"
      ]
     },
     "metadata": {
      "needs_background": "light"
     },
     "output_type": "display_data"
    }
   ],
   "source": [
    "# velocity\n",
    "plt.plot(df['time'],df['v'])\n",
    "plt.xlabel(\"Time (seconds)\")\n",
    "plt.ylabel(\"Velocity of ball (m/s)\")"
   ]
  },
  {
   "cell_type": "code",
   "execution_count": 56,
   "id": "fbe8b944",
   "metadata": {},
   "outputs": [
    {
     "name": "stdout",
     "output_type": "stream",
     "text": [
      "BouncingBall.fmu2022_07_12_03_32_58.txt\n"
     ]
    }
   ],
   "source": [
    "# print report of the simulation\n",
    "list_of_files = glob.glob('*.txt') # * means all if need specific format then *.csv\n",
    "latest_file = max(list_of_files, key=os.path.getctime)\n",
    "print(latest_file)\n"
   ]
  },
  {
   "cell_type": "markdown",
   "id": "e2ad9758",
   "metadata": {},
   "source": [
    "### Simulate using a sweep of parameters\n",
    "- Each pSets.json contains the parameters for a model (and only that model) for one simulation run.\n",
    "- Let's say we want to simulate BouncingBall.fmu 10 times, but each time we change the gravity.\n",
    "- So we need to create 10 pSets.json files and upload them to fmpy-bucket on S3\n",
    "- By default, Python will wait for each Lambda execution to finish before starting the next one. However, this is slow so let's run them asynchronously (without waiting for a response)."
   ]
  },
  {
   "cell_type": "code",
   "execution_count": 192,
   "id": "5f533791",
   "metadata": {},
   "outputs": [],
   "source": [
    "s3_client.upload_file('BouncingBall.fmu', 'fmpy-bucket', 'BouncingBall.fmu')\n",
    "s3_client.upload_file('BouncingBall_iSet.json', 'fmpy-bucket', 'BouncingBall_iSet.json')\n",
    "# upload all 10 pSets\n",
    "for i in range(10):\n",
    "    j = str(i+1)\n",
    "    pSets = 'BouncingBall_pSets_' + j + '.json'\n",
    "    s3_client.upload_file(pSets, 'fmpy-bucket', pSets)\n"
   ]
  },
  {
   "cell_type": "markdown",
   "id": "20e2b667",
   "metadata": {},
   "source": [
    "- Looping 10 times, each time increasing the input pSets file by 1 using an interator"
   ]
  },
  {
   "cell_type": "code",
   "execution_count": 232,
   "id": "5c1a97e1",
   "metadata": {},
   "outputs": [],
   "source": [
    "# define data to send to lambda as inputs\n",
    "lambda_client = boto3.client('lambda')\n",
    "\n",
    "for i in range(10):\n",
    "    # all times are in seconds\n",
    "    # for iterating through the files\n",
    "    j = str(i+1)\n",
    "    pSets = 'BouncingBall_pSets_' + j + '.json'\n",
    "    simulate_event = {'parameter_file': pSets,\n",
    "        'input_file': 'BouncingBall_iSet.json',\n",
    "        'fmu_file': 'BouncingBall.fmu',\n",
    "        'start_time': 0,\n",
    "        'end_time': 10,\n",
    "        'threshold': 3,\n",
    "        'step_size': 0.01,\n",
    "        'index': j}\n",
    "    # invoke the lambda with the input data using the payload argument\n",
    "    # InvocationType - https://boto3.amazonaws.com/v1/documentation/api/latest/reference/services/lambda.html#:~:text=To%20invoke%20a%20function%20asynchronously%2C%20set%20InvocationType%20to%20Event%20.\n",
    "    response = lambda_client.invoke(\n",
    "        FunctionName='simulateCoupledClutches',\n",
    "        InvocationType='Event',\n",
    "        Payload=json.dumps(simulate_event),\n",
    "    )\n",
    "    #print(response['Payload'])\n",
    "    #print(response['Payload'].read().decode(\"utf-8\"))\n",
    "    \n"
   ]
  },
  {
   "cell_type": "code",
   "execution_count": 196,
   "id": "bc2f3861",
   "metadata": {},
   "outputs": [],
   "source": [
    "# plot results\n"
   ]
  },
  {
   "cell_type": "markdown",
   "id": "102565f4",
   "metadata": {},
   "source": [
    "### More complex model (with both inputs and parameters)\n",
    "- DiscreteController.fmu\n",
    "- The dump() function prints out model info"
   ]
  },
  {
   "cell_type": "code",
   "execution_count": 10,
   "id": "00de68ac",
   "metadata": {},
   "outputs": [
    {
     "name": "stdout",
     "output_type": "stream",
     "text": [
      "\n",
      "Model Info\n",
      "\n",
      "  FMI Version        2.0\n",
      "  FMI Type           Model Exchange\n",
      "  Model Name         sb_DCMotor_Controller\n",
      "  Description         \n",
      "  Platforms          linux64\n",
      "  Continuous States  3\n",
      "  Event Indicators   0\n",
      "  Variables          60\n",
      "  Generation Tool    Activate\n",
      "  Generation Date    2020-11-17T14:41:10Z\n",
      "\n",
      "Default Experiment\n",
      "\n",
      "  Stop Time          10.0\n",
      "  Tolerance          1e-06\n",
      "  Step Size          0.001\n",
      "\n",
      "Variables (input, output)\n",
      "\n",
      "  Name               Causality              Start Value  Unit     Description\n",
      "  DCMotor_angle      output                                       index:57 ,output variable:SCSREAL_COP\n",
      "  DCMotot_speed      output                                       index:58 ,output variable:SCSREAL_COP\n",
      "  controller_output  output                                       index:59 ,output variable:SCSREAL_COP\n",
      "  Reference_angle    input                          0.0           index:60 ,input variable:SCSREAL_COP\n"
     ]
    }
   ],
   "source": [
    "# print out model information\n",
    "fmu_name = 'DiscreteController'\n",
    "dump(fmu_name + '.fmu')"
   ]
  },
  {
   "cell_type": "markdown",
   "id": "9c6ffcd5",
   "metadata": {},
   "source": [
    "- Grabbing inputs and parameters to add to the JSON files"
   ]
  },
  {
   "cell_type": "code",
   "execution_count": 11,
   "id": "f39a5831",
   "metadata": {},
   "outputs": [
    {
     "name": "stdout",
     "output_type": "stream",
     "text": [
      "All parameters: {'Solver.Time_Tolerance': 2, 'Solver.Absolute_Tolerance': 1, 'Solver.Relative_Tolerance': 0, 'Ipar.(12,1)': 26, 'Ipar.(11,1)': 25, 'Ipar.(10,1)': 24, 'Ipar.(9,1)': 23, 'Ipar.(8,1)': 22, 'Ipar.(7,1)': 21, 'Ipar.(6,1)': 20, 'Ipar.(5,1)': 19, 'Ipar.(4,1)': 18, 'Ipar.(3,1)': 17, 'Ipar.(2,1)': 16, 'Ipar.(1,1)': 15, 'VssVirtualSampleClock1.offset': 29, 'VssVirtualSampleClock1.period': 28, 'VssVirtualSampleClock1.offsets': 14, 'VssVirtualSampleClock1.periods': 13, 'DiscrTransFunc.opar4': 27, 'DiscrTransFunc.opar3.(1,2)': 26, 'DiscrTransFunc.opar3.(1,1)': 25, 'DiscrTransFunc.opar2.(2,1)': 24, 'DiscrTransFunc.opar2.(1,1)': 23, 'DiscrTransFunc.opar1.(2,2)': 22, 'DiscrTransFunc.opar1.(1,2)': 21, 'DiscrTransFunc.opar1.(2,1)': 20, 'DiscrTransFunc.opar1.(1,1)': 19, 'Gain_6.opar3': 12, 'Gain_6.opar2': 11, 'Gain_6.opar1': 18, 'Gain_6_1.opar3': 10, 'Gain_6_1.opar2': 9, 'Gain_6_1.opar1': 17, 'Gain_2.opar3': 8, 'Gain_2.opar2': 7, 'Gain_2.opar1': 16, 'Gain_1.opar3': 6, 'Gain_1.opar2': 5, 'Gain_1.opar1': 15, 'Gain_3.opar3': 4, 'Gain_3.opar2': 3, 'Gain_3.opar1': 14, 'Gain_4.opar3': 2, 'Gain_4.opar2': 1, 'Gain_4.opar1': 13, 'Oz(2)': 12, 'Oz(1)': 0, 'dstate[1]': 11, 'dstate[0]': 10, 'state[2]': 8, 'der(state[2])': 9, 'state[1]': 6, 'der(state[1])': 7, 'state[0]': 4, 'der(state[0])': 5, 'DCMotor_angle': 3, 'DCMotot_speed': 2, 'controller_output': 1, 'Reference_angle': 0}\n"
     ]
    }
   ],
   "source": [
    "# print out all variables, including parameters\n",
    "fmu_name = 'DiscreteController'\n",
    "model_description = read_model_description(fmu_name + '.fmu')\n",
    "\n",
    "vrs = {}\n",
    "for variable in model_description.modelVariables:\n",
    "    vrs[variable.name] = variable.valueReference\n",
    "print('All parameters:', vrs)"
   ]
  },
  {
   "cell_type": "markdown",
   "id": "e05258a7",
   "metadata": {},
   "source": [
    "- Need to replace single quotes with double quotes, otherwise the Lambda won't be able to read the JSON"
   ]
  },
  {
   "cell_type": "code",
   "execution_count": 12,
   "id": "935d5d8b",
   "metadata": {},
   "outputs": [],
   "source": [
    "# create iSet and pSets files with example values\n",
    "discrete_iset = str({\"Reference_angle\": 5})\n",
    "discrete_pset = str({})\n",
    "discrete_iset = discrete_iset.replace(\"\\'\", \"\\\"\")\n",
    "discrete_pset = discrete_pset.replace(\"\\'\", \"\\\"\")\n",
    "# write to new json files\n",
    "with open(fmu_name + '_pSets.json', 'w') as f:\n",
    "    f.write(str(discrete_pset))\n",
    "with open(fmu_name + '_iSet.json', 'w') as f:\n",
    "    f.write(str(discrete_iset))"
   ]
  },
  {
   "cell_type": "markdown",
   "id": "1d03313d",
   "metadata": {},
   "source": [
    "- Uploading new files to S3"
   ]
  },
  {
   "cell_type": "code",
   "execution_count": 13,
   "id": "adaee4fd",
   "metadata": {},
   "outputs": [],
   "source": [
    "# upload to S3\n",
    "s3_client.upload_file(fmu_name + '.fmu', 'fmpy-bucket', fmu_name + '.fmu')\n",
    "s3_client.upload_file(fmu_name + '_iSet.json', 'fmpy-bucket', fmu_name + '_iSet.json')\n",
    "s3_client.upload_file(fmu_name + '_pSets.json', 'fmpy-bucket', fmu_name + '_pSets.json')\n"
   ]
  },
  {
   "cell_type": "markdown",
   "id": "32b0f115",
   "metadata": {},
   "source": [
    "- Running the simulation"
   ]
  },
  {
   "cell_type": "code",
   "execution_count": 14,
   "id": "cf930d89",
   "metadata": {},
   "outputs": [],
   "source": [
    "simulate_event = {'parameter_file': fmu_name + '_pSets.json',\n",
    "        'input_file': fmu_name + '_iSet.json',\n",
    "        'fmu_file': fmu_name + '.fmu',\n",
    "        'start_time': 0,\n",
    "        'end_time': 10,\n",
    "        'threshold': 3,\n",
    "        'step_size': 0.01,\n",
    "        'index': 1}\n"
   ]
  },
  {
   "cell_type": "code",
   "execution_count": 15,
   "id": "2b67be0f",
   "metadata": {},
   "outputs": [
    {
     "name": "stdout",
     "output_type": "stream",
     "text": [
      "<botocore.response.StreamingBody object at 0x7f3815850790>\n",
      "{\"runtime\": \"0.9271504878997803 second(s)\", \"statusCode\": 200, \"body\": \"\\\"Ran successfully!\\\"\"}\n"
     ]
    }
   ],
   "source": [
    "response = lambda_client.invoke(\n",
    "        FunctionName='simulateCoupledClutches',\n",
    "        #InvocationType='Event',\n",
    "        Payload=json.dumps(simulate_event),\n",
    "    )\n",
    "print(response['Payload'])\n",
    "print(response['Payload'].read().decode(\"utf-8\"))"
   ]
  },
  {
   "cell_type": "markdown",
   "id": "6f1c88e4",
   "metadata": {},
   "source": [
    "- Download results and plot "
   ]
  },
  {
   "cell_type": "code",
   "execution_count": null,
   "id": "38adb0b7",
   "metadata": {},
   "outputs": [],
   "source": [
    "fmu_name = 'DiscreteController'\n",
    "download_latest_file(fmu_name)\n",
    "# print report of the simulation\n",
    "list_of_files = glob.glob('*.csv') # * means all if need specific format then *.csv\n",
    "latest_file = max(list_of_files, key=os.path.getctime)\n",
    "print(latest_file)"
   ]
  },
  {
   "cell_type": "code",
   "execution_count": 17,
   "id": "e4d8bf26",
   "metadata": {},
   "outputs": [
    {
     "name": "stdout",
     "output_type": "stream",
     "text": [
      "DiscreteController.fmu_2022_07_12_19_29_29_.csv\n",
      "       time  Reference_angle  DCMotor_angle  DCMotot_speed  controller_output\n",
      "0      0.01              5.0       0.000529       0.196136        2250.000000\n",
      "1      0.02              5.0       0.003830       0.407689       -2205.237960\n",
      "2      0.03              5.0       0.008248       0.561409        2210.272783\n",
      "3      0.04              5.0       0.015036       0.741346       -2081.998207\n",
      "4      0.05              5.0       0.022702       0.873604        2148.129703\n",
      "...     ...              ...            ...            ...                ...\n",
      "996    9.97              5.0       5.000254       0.000107          -0.004472\n",
      "997    9.98              5.0       5.000255       0.000096          -0.004482\n",
      "998    9.99              5.0       5.000256       0.000086          -0.004475\n",
      "999   10.00              5.0       5.000257       0.000075          -0.004481\n",
      "1000  10.01              5.0       5.000257       0.000065          -0.004472\n",
      "\n",
      "[1001 rows x 5 columns]\n"
     ]
    }
   ],
   "source": [
    "# read the csv into a pandas dataframe\n",
    "print(latest_file)\n",
    "df2 = pd.read_csv(latest_file)\n",
    "print(df2)"
   ]
  },
  {
   "cell_type": "code",
   "execution_count": 18,
   "id": "75c4ee29",
   "metadata": {},
   "outputs": [
    {
     "data": {
      "text/plain": [
       "<matplotlib.legend.Legend at 0x7f3815759d00>"
      ]
     },
     "execution_count": 18,
     "metadata": {},
     "output_type": "execute_result"
    },
    {
     "data": {
      "image/png": "[encoded data removed]",
      "text/plain": [
       "<Figure size 432x288 with 1 Axes>"
      ]
     },
     "metadata": {
      "needs_background": "light"
     },
     "output_type": "display_data"
    }
   ],
   "source": [
    "plt.plot(df2['time'], df2['DCMotor_angle'], label=\"DC Motor angle\")\n",
    "plt.plot(df2['time'], df2['DCMotot_speed'], label=\"DC Motor speed\")\n",
    "plt.xlabel('Time (seconds)')\n",
    "plt.legend()"
   ]
  },
  {
   "cell_type": "code",
   "execution_count": 19,
   "id": "9e563e5e",
   "metadata": {},
   "outputs": [
    {
     "data": {
      "text/plain": [
       "[<matplotlib.lines.Line2D at 0x7f3814715b50>]"
      ]
     },
     "execution_count": 19,
     "metadata": {},
     "output_type": "execute_result"
    },
    {
     "data": {
      "image/png": "[encoded data removed]",
      "text/plain": [
       "<Figure size 432x288 with 1 Axes>"
      ]
     },
     "metadata": {
      "needs_background": "light"
     },
     "output_type": "display_data"
    }
   ],
   "source": [
    "plt.plot(df2['time'], df2['controller_output'])"
   ]
  },
  {
   "cell_type": "code",
   "execution_count": null,
   "id": "b2945334",
   "metadata": {},
   "outputs": [],
   "source": [
    "# still need to plot RTF\n",
    "# thesis discussion\n",
    "# speed differences\n",
    "# create true high fidelity digital twins\n",
    "# decision making logic and physics\n",
    "# mission planner will invoke the lambda\n",
    "# can write model in any language\n",
    "# FMI is kinda annoying"
   ]
  }
 ],
 "metadata": {
  "kernelspec": {
   "display_name": "Python 3 (ipykernel)",
   "language": "python",
   "name": "python3"
  },
  "language_info": {
   "codemirror_mode": {
    "name": "ipython",
    "version": 3
   },
   "file_extension": ".py",
   "mimetype": "text/x-python",
   "name": "python",
   "nbconvert_exporter": "python",
   "pygments_lexer": "ipython3",
   "version": "3.8.10"
  }
 },
 "nbformat": 4,
 "nbformat_minor": 5
}
